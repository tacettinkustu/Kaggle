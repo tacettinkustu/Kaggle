{
 "cells": [
  {
   "cell_type": "code",
   "execution_count": 1,
   "metadata": {},
   "outputs": [
    {
     "ename": "NameError",
     "evalue": "name 'xml_to_csv' is not defined",
     "output_type": "error",
     "traceback": [
      "\u001b[1;31m---------------------------------------------------------------------------\u001b[0m",
      "\u001b[1;31mNameError\u001b[0m                                 Traceback (most recent call last)",
      "\u001b[1;32m<ipython-input-1-b185fad46798>\u001b[0m in \u001b[0;36m<module>\u001b[1;34m\u001b[0m\n\u001b[0;32m     35\u001b[0m         \u001b[0mcsv_df\u001b[0m\u001b[1;33m.\u001b[0m\u001b[0mto_csv\u001b[0m\u001b[1;33m(\u001b[0m\u001b[1;34m'data/{}_labels.csv'\u001b[0m\u001b[1;33m.\u001b[0m\u001b[0mformat\u001b[0m\u001b[1;33m(\u001b[0m\u001b[0mdirectory\u001b[0m\u001b[1;33m)\u001b[0m\u001b[1;33m,\u001b[0m \u001b[0mindex\u001b[0m\u001b[1;33m=\u001b[0m\u001b[1;32mNone\u001b[0m\u001b[1;33m)\u001b[0m\u001b[1;33m\u001b[0m\u001b[1;33m\u001b[0m\u001b[0m\n\u001b[0;32m     36\u001b[0m \u001b[1;33m\u001b[0m\u001b[0m\n\u001b[1;32m---> 37\u001b[1;33m \u001b[0mmain\u001b[0m\u001b[1;33m(\u001b[0m\u001b[1;33m)\u001b[0m\u001b[1;33m\u001b[0m\u001b[1;33m\u001b[0m\u001b[0m\n\u001b[0m",
      "\u001b[1;32m<ipython-input-1-b185fad46798>\u001b[0m in \u001b[0;36mmain\u001b[1;34m()\u001b[0m\n\u001b[0;32m     32\u001b[0m     \u001b[1;32mfor\u001b[0m \u001b[0mdirectory\u001b[0m \u001b[1;32min\u001b[0m \u001b[1;33m[\u001b[0m\u001b[1;34m'train'\u001b[0m\u001b[1;33m,\u001b[0m\u001b[1;34m'test'\u001b[0m\u001b[1;33m]\u001b[0m\u001b[1;33m:\u001b[0m\u001b[1;33m\u001b[0m\u001b[1;33m\u001b[0m\u001b[0m\n\u001b[0;32m     33\u001b[0m         \u001b[0mimage_path\u001b[0m \u001b[1;33m=\u001b[0m \u001b[0mos\u001b[0m\u001b[1;33m.\u001b[0m\u001b[0mpath\u001b[0m\u001b[1;33m.\u001b[0m\u001b[0mjoin\u001b[0m\u001b[1;33m(\u001b[0m\u001b[0mos\u001b[0m\u001b[1;33m.\u001b[0m\u001b[0mgetcwd\u001b[0m\u001b[1;33m(\u001b[0m\u001b[1;33m)\u001b[0m\u001b[1;33m,\u001b[0m \u001b[1;34m'images/{}'\u001b[0m\u001b[1;33m.\u001b[0m\u001b[0mformat\u001b[0m\u001b[1;33m(\u001b[0m\u001b[0mdirectory\u001b[0m\u001b[1;33m)\u001b[0m\u001b[1;33m)\u001b[0m\u001b[1;33m\u001b[0m\u001b[1;33m\u001b[0m\u001b[0m\n\u001b[1;32m---> 34\u001b[1;33m         \u001b[0mcsv_df\u001b[0m \u001b[1;33m=\u001b[0m \u001b[0mxml_to_csv\u001b[0m\u001b[1;33m(\u001b[0m\u001b[0mimage_path\u001b[0m\u001b[1;33m)\u001b[0m\u001b[1;33m\u001b[0m\u001b[1;33m\u001b[0m\u001b[0m\n\u001b[0m\u001b[0;32m     35\u001b[0m         \u001b[0mcsv_df\u001b[0m\u001b[1;33m.\u001b[0m\u001b[0mto_csv\u001b[0m\u001b[1;33m(\u001b[0m\u001b[1;34m'data/{}_labels.csv'\u001b[0m\u001b[1;33m.\u001b[0m\u001b[0mformat\u001b[0m\u001b[1;33m(\u001b[0m\u001b[0mdirectory\u001b[0m\u001b[1;33m)\u001b[0m\u001b[1;33m,\u001b[0m \u001b[0mindex\u001b[0m\u001b[1;33m=\u001b[0m\u001b[1;32mNone\u001b[0m\u001b[1;33m)\u001b[0m\u001b[1;33m\u001b[0m\u001b[1;33m\u001b[0m\u001b[0m\n\u001b[0;32m     36\u001b[0m \u001b[1;33m\u001b[0m\u001b[0m\n",
      "\u001b[1;31mNameError\u001b[0m: name 'xml_to_csv' is not defined"
     ]
    }
   ],
   "source": [
    "import os\n",
    "import glob\n",
    "import pandas as pd\n",
    "import xml.etree.ElementTree as ET\n",
    "\n",
    "path = \"Desktop/Kaggle/Master/dataset\"\n",
    "def csv_to_csv(path):\n",
    "    csv_list = []\n",
    "    for csv_file in glob.glob(path + '/*.csv'):\n",
    "        l = open(csv_file, \"r\")\n",
    "        z = l.read().split(\",\")\n",
    "        l.close()\n",
    "        print(z)\n",
    "        for i in z:\n",
    "            value = (root.find('filename').text,\n",
    "                     int(root.find('size')[0].text),\n",
    "                     int(root.find('size')[1].text),\n",
    "                     member[0].text,\n",
    "                     int(member[4][0].text),\n",
    "                     int(member[4][1].text),\n",
    "                     int(member[4][2].text),\n",
    "                     int(member[4][3].text)\n",
    "                     )\n",
    "            csv_list.append(value)\n",
    "    column_name = ['filename', 'width', 'height', 'class', 'xmin', 'ymin', 'xmax', 'ymax']\n",
    "    csv_df = pd.DataFrame(csv_list, columns=column_name)\n",
    "    return csv_df\n",
    "\n",
    "csv_to_csv(path)\n",
    "\n",
    "def main():\n",
    "    for directory in ['train','test']:\n",
    "        image_path = os.path.join(os.getcwd(), 'images/{}'.format(directory))\n",
    "        csv_df = xml_to_csv(image_path)\n",
    "        csv_df.to_csv('data/{}_labels.csv'.format(directory), index=None)\n",
    "\n",
    "main()"
   ]
  },
  {
   "cell_type": "code",
   "execution_count": null,
   "metadata": {},
   "outputs": [],
   "source": [
    "from pathlib import Path\n",
    "for p in Path(\"C:\\\\Users\\\\tcttn\\\\Desktop\\\\Kaggle\\\\Master\\\\data\").glob(\"P*.csv\"):\n",
    "    p.unlink()"
   ]
  },
  {
   "cell_type": "code",
   "execution_count": null,
   "metadata": {},
   "outputs": [],
   "source": [
    "os.getcwd()"
   ]
  },
  {
   "cell_type": "code",
   "execution_count": null,
   "metadata": {},
   "outputs": [],
   "source": [
    "os.chdir(\"data\")"
   ]
  },
  {
   "cell_type": "code",
   "execution_count": null,
   "metadata": {},
   "outputs": [],
   "source": [
    "os.getcwd()"
   ]
  },
  {
   "cell_type": "code",
   "execution_count": null,
   "metadata": {},
   "outputs": [],
   "source": [
    "from pathlib import Path\n",
    "classes_dir = [\"A10\", \"B1\", \"B2\", \"B52\", \"C130\", \"C17\", \"C5\", \"E2\", \"EF2000\", \"F117\", \"F14\", \"F15\", \"F16\", \"F18\", \"F22\", \"F35\", \"F4\", \"J20\", \"JAS39\", \"MQ9\", \"Mig31\", \"Mirage2000\", \"RQ4\", \"Rafale\", \"SR71\", \"Su57\", \"Tu160\", \"Tu95\", \"U2\", \"V22\", \"XB70\", \"YF23\"]\n",
    "for i in classes_dir:\n",
    "    path = \"C:\\\\Users\\\\tcttn\\\\Desktop\\\\Kaggle\\\\Master\\\\data\"+\"\\\\\"+i\n",
    "    for p in Path(path).glob(\"*.csv\"):\n",
    "        p.unlink()"
   ]
  },
  {
   "cell_type": "code",
   "execution_count": null,
   "metadata": {},
   "outputs": [],
   "source": [
    "import os\n",
    "import numpy as np\n",
    "import shutil\n",
    "import random\n",
    "\n",
    "# # Creating Train / Val / Test folders (One time use)\n",
    "root_dir = 'C:\\\\Users\\\\tcttn\\\\Desktop\\\\Kaggle\\\\Master\\\\data'\n",
    "classes_dir = [\"A10\", \"B1\", \"B2\", \"B52\", \"C130\", \"C17\", \"C5\", \"E2\", \"EF2000\", \"F117\", \"F14\", \"F15\", \"F16\", \"F18\", \"F22\", \"F35\", \"F4\", \"J20\", \"JAS39\", \"MQ9\", \"Mig31\", \"Mirage2000\", \"RQ4\", \"Rafale\", \"SR71\", \"Su57\", \"Tu160\", \"Tu95\", \"U2\", \"V22\", \"XB70\", \"YF23\"]\n",
    "\n",
    "val_ratio = 0.10\n",
    "test_ratio = 0.20\n",
    "\n",
    "for cls in classes_dir:\n",
    "    os.makedirs(root_dir +'/train' + \"/\" + cls)\n",
    "    os.makedirs(root_dir +'/val' + \"/\" + cls)\n",
    "    os.makedirs(root_dir +'/test' + \"/\" + cls)\n",
    "\n",
    "\n",
    "    # Creating partitions of the data after shuffeling\n",
    "    src = root_dir + \"/\" + cls # Folder to copy images from\n",
    "\n",
    "    allFileNames = os.listdir(src)\n",
    "    train_FileNames, val_FileNames, test_FileNames = np.split(np.array(allFileNames),\n",
    "                                                              [int(len(allFileNames)* (1 - val_ratio + test_ratio)), \n",
    "                                                               int(len(allFileNames)* (1 - test_ratio))])\n",
    "\n",
    "\n",
    "    train_FileNames = [src+'/'+ name for name in train_FileNames.tolist()]\n",
    "    val_FileNames = [src+'/' + name for name in val_FileNames.tolist()]\n",
    "    test_FileNames = [src+'/' + name for name in test_FileNames.tolist()]\n",
    "\n",
    "    print('Total images: ', len(allFileNames))\n",
    "    print('Training: ', len(train_FileNames))\n",
    "    print('Validation: ', len(val_FileNames))\n",
    "    print('Testing: ', len(test_FileNames))\n",
    "\n",
    "    # Copy-pasting images\n",
    "    for name in train_FileNames:\n",
    "        shutil.copy(name, root_dir +'/train' +\"/\"+ cls)\n",
    "\n",
    "    for name in val_FileNames:\n",
    "        shutil.copy(name, root_dir +'/val' + \"/\"+cls)\n",
    "\n",
    "    for name in test_FileNames:\n",
    "        shutil.copy(name, root_dir +'/test' +\"/\"+ cls)"
   ]
  },
  {
   "cell_type": "code",
   "execution_count": 2,
   "metadata": {},
   "outputs": [],
   "source": [
    "import splitfolders"
   ]
  },
  {
   "cell_type": "code",
   "execution_count": 3,
   "metadata": {},
   "outputs": [
    {
     "name": "stderr",
     "output_type": "stream",
     "text": [
      "Copying files: 0 files [00:00, ? files/s]\n",
      "Copying files: 0 files [00:00, ? files/s]\n",
      "Copying files: 0 files [00:00, ? files/s]\n",
      "Copying files: 0 files [00:00, ? files/s]\n",
      "Copying files: 0 files [00:00, ? files/s]\n",
      "Copying files: 0 files [00:00, ? files/s]\n",
      "Copying files: 0 files [00:00, ? files/s]\n",
      "Copying files: 0 files [00:00, ? files/s]\n",
      "Copying files: 0 files [00:00, ? files/s]\n",
      "Copying files: 0 files [00:00, ? files/s]\n",
      "Copying files: 0 files [00:00, ? files/s]\n",
      "Copying files: 0 files [00:00, ? files/s]\n",
      "Copying files: 0 files [00:00, ? files/s]\n",
      "Copying files: 0 files [00:00, ? files/s]\n",
      "Copying files: 0 files [00:00, ? files/s]\n",
      "Copying files: 0 files [00:00, ? files/s]\n",
      "Copying files: 0 files [00:00, ? files/s]\n",
      "Copying files: 0 files [00:00, ? files/s]\n",
      "Copying files: 0 files [00:00, ? files/s]\n",
      "Copying files: 0 files [00:00, ? files/s]\n",
      "Copying files: 0 files [00:00, ? files/s]\n",
      "Copying files: 0 files [00:00, ? files/s]\n",
      "Copying files: 0 files [00:00, ? files/s]\n",
      "Copying files: 0 files [00:00, ? files/s]\n",
      "Copying files: 0 files [00:00, ? files/s]\n",
      "Copying files: 0 files [00:00, ? files/s]\n",
      "Copying files: 0 files [00:00, ? files/s]\n",
      "Copying files: 0 files [00:00, ? files/s]\n",
      "Copying files: 0 files [00:00, ? files/s]\n",
      "Copying files: 0 files [00:00, ? files/s]\n",
      "Copying files: 0 files [00:00, ? files/s]\n",
      "Copying files: 0 files [00:00, ? files/s]\n"
     ]
    }
   ],
   "source": [
    "classes_dir = [\"A10\", \"B1\", \"B2\", \"B52\", \"C130\", \"C17\", \"C5\", \"E2\", \"EF2000\", \"F117\", \"F14\", \"F15\", \"F16\", \"F18\", \"F22\", \"F35\", \"F4\", \"J20\", \"JAS39\", \"MQ9\", \"Mig31\", \"Mirage2000\", \"RQ4\", \"Rafale\", \"SR71\", \"Su57\", \"Tu160\", \"Tu95\", \"U2\", \"V22\", \"XB70\", \"YF23\"]\n",
    "for i in classes_dir:\n",
    "    splitfolders.ratio(\"C:\\\\Users\\\\tcttn\\\\Desktop\\\\Kaggle\\\\Master\\\\data\\\\%s\"%i, output=\"output\", seed=1337, ratio=(.7,.1, .2), group_prefix=None)"
   ]
  },
  {
   "cell_type": "code",
   "execution_count": null,
   "metadata": {},
   "outputs": [],
   "source": []
  }
 ],
 "metadata": {
  "kernelspec": {
   "display_name": "Python 3",
   "language": "python",
   "name": "python3"
  },
  "language_info": {
   "codemirror_mode": {
    "name": "ipython",
    "version": 3
   },
   "file_extension": ".py",
   "mimetype": "text/x-python",
   "name": "python",
   "nbconvert_exporter": "python",
   "pygments_lexer": "ipython3",
   "version": "3.8.3"
  }
 },
 "nbformat": 4,
 "nbformat_minor": 4
}
