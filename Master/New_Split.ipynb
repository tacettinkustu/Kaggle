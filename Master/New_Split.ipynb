{
 "cells": [
  {
   "cell_type": "code",
   "execution_count": null,
   "metadata": {},
   "outputs": [],
   "source": [
    "import os\n",
    "import glob\n",
    "import pandas as pd\n",
    "import xml.etree.ElementTree as ET\n",
    "import numpy as np\n",
    "import shutil\n",
    "\n",
    "def xml_to_csv(path):\n",
    "    xml_list = []\n",
    "    for xml_file in glob.glob(path + '/*.xml'):\n",
    "        tree = ET.parse(xml_file)\n",
    "        root = tree.getroot()\n",
    "        for member in root.findall('object'):\n",
    "            value = (root.find('filename').text,\n",
    "                     int(root.find('size')[0].text),\n",
    "                     int(root.find('size')[1].text),\n",
    "                     member[0].text,\n",
    "                     int(member[4][0].text),\n",
    "                     int(member[4][1].text),\n",
    "                     int(member[4][2].text),\n",
    "                     int(member[4][3].text)\n",
    "                     )\n",
    "            xml_list.append(value)\n",
    "    column_name = ['filename', 'width', 'height', 'class', 'xmin', 'ymin', 'xmax', 'ymax']\n",
    "    xml_df = pd.DataFrame(xml_list, columns=column_name)\n",
    "    return xml_df\n",
    "\n",
    "#name_class kendi siniflariniza gore duzenlemelisiniz.\n",
    "name_class = ['Durak','Girilmez','Kirmizi_Isik','Yesil_Isik','Park_Yapilmaz','Saga_Donulmez','Sola_Donulmez'] \n",
    "counter = np.zeros(len(name_class))\n",
    "validation_test = 10\n",
    "\n",
    "def bol(file_name):\n",
    "    _, name= file_name.split('/')\n",
    "    for i in range(len(name_class)):\n",
    "        if name_class[i] == name[:-5] or name_class[i] == name[:-6] :\n",
    "            counter[i] += 1\n",
    "            if counter[i] % validation_test == 0:\n",
    "                shutil.move(file_name,'images/test/')\n",
    "            else :\n",
    "                shutil.move(file_name,'images/train/')\n",
    "\n",
    "            break\n",
    "\n",
    "def main():\n",
    "    for file_name in glob.glob('images/*.xml'):\n",
    "        print file_name\n",
    "        bol(file_name)\n",
    "\n",
    "    for directory in ['train','test']:\n",
    "        image_path = os.path.join(os.getcwd(), 'images/{}'.format(directory))\n",
    "        xml_df = xml_to_csv(image_path)\n",
    "        xml_df.to_csv('data/{}_labels.csv'.format(directory), index=None)\n",
    "        print('Successfully converted xml to csv.')\n",
    "\n",
    "main()"
   ]
  }
 ],
 "metadata": {
  "kernelspec": {
   "display_name": "Python 3",
   "language": "python",
   "name": "python3"
  },
  "language_info": {
   "codemirror_mode": {
    "name": "ipython",
    "version": 3
   },
   "file_extension": ".py",
   "mimetype": "text/x-python",
   "name": "python",
   "nbconvert_exporter": "python",
   "pygments_lexer": "ipython3",
   "version": "3.8.3"
  }
 },
 "nbformat": 4,
 "nbformat_minor": 4
}
